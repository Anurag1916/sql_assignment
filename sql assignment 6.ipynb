{
 "cells": [
  {
   "cell_type": "markdown",
   "id": "1768a11c",
   "metadata": {},
   "source": [
    "Q-1. Write an SQL query to print details of the Workers who have joined in Feb’2014.\n",
    "\n",
    "\n",
    "\n",
    "\n"
   ]
  },
  {
   "cell_type": "code",
   "execution_count": null,
   "id": "97d047aa",
   "metadata": {},
   "outputs": [],
   "source": [
    "Select * from worker where month(joining_date) = 2 and year(joining_date)=2014"
   ]
  },
  {
   "cell_type": "markdown",
   "id": "faa15639",
   "metadata": {},
   "source": [
    "Q-2. Write an SQL query to fetch duplicate records having matching data in some fields of\n",
    "a table."
   ]
  },
  {
   "cell_type": "code",
   "execution_count": null,
   "id": "d7ee9dac",
   "metadata": {},
   "outputs": [],
   "source": [
    "select emp_salary, count(emp_salary) from emp group by emp_salary having count(emp_salary)>1"
   ]
  },
  {
   "cell_type": "markdown",
   "id": "1e2fb7bc",
   "metadata": {},
   "source": [
    "Q-3. How to remove duplicate rows from Employees table."
   ]
  },
  {
   "cell_type": "code",
   "execution_count": null,
   "id": "b7001d0a",
   "metadata": {},
   "outputs": [],
   "source": [
    "\n",
    "Delete from Employees where EmployeeID NOT IN \n",
    "(  select min(EmployeeID)   FROM Employees   GROUP BY Name, Email);"
   ]
  }
 ],
 "metadata": {
  "kernelspec": {
   "display_name": "Python 3 (ipykernel)",
   "language": "python",
   "name": "python3"
  },
  "language_info": {
   "codemirror_mode": {
    "name": "ipython",
    "version": 3
   },
   "file_extension": ".py",
   "mimetype": "text/x-python",
   "name": "python",
   "nbconvert_exporter": "python",
   "pygments_lexer": "ipython3",
   "version": "3.10.9"
  }
 },
 "nbformat": 4,
 "nbformat_minor": 5
}
