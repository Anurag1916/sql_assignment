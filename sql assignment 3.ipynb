{
 "cells": [
  {
   "cell_type": "markdown",
   "id": "d2e7c2fc",
   "metadata": {},
   "source": [
    "Q-1. Write an SQL query to print the FIRST_NAME from Worker table after removing\n",
    "white spaces from the right side.\n",
    "\n",
    "\n",
    "\n"
   ]
  },
  {
   "cell_type": "code",
   "execution_count": null,
   "id": "194b51dc",
   "metadata": {},
   "outputs": [],
   "source": [
    "Select rtrim(FIRST_NAME) AS trimname from worker"
   ]
  },
  {
   "cell_type": "markdown",
   "id": "a10757d3",
   "metadata": {},
   "source": [
    "Q-2. Write an SQL query that fetches the unique values of DEPARTMENT from Worker\n",
    "table and prints its length."
   ]
  },
  {
   "cell_type": "code",
   "execution_count": null,
   "id": "0e51a0a0",
   "metadata": {},
   "outputs": [],
   "source": [
    "Select distinct DEPARTMENT, len(DEPARTMENT) from worker"
   ]
  },
  {
   "cell_type": "markdown",
   "id": "80c6b855",
   "metadata": {},
   "source": [
    "\n",
    "Q-3. Write an SQL query to fetch nth max salaries from a table."
   ]
  },
  {
   "cell_type": "code",
   "execution_count": null,
   "id": "8cdd19bf",
   "metadata": {},
   "outputs": [],
   "source": [
    "Select salary from table order by salary desc limit n,n-1\n"
   ]
  }
 ],
 "metadata": {
  "kernelspec": {
   "display_name": "Python 3 (ipykernel)",
   "language": "python",
   "name": "python3"
  },
  "language_info": {
   "codemirror_mode": {
    "name": "ipython",
    "version": 3
   },
   "file_extension": ".py",
   "mimetype": "text/x-python",
   "name": "python",
   "nbconvert_exporter": "python",
   "pygments_lexer": "ipython3",
   "version": "3.10.9"
  }
 },
 "nbformat": 4,
 "nbformat_minor": 5
}
