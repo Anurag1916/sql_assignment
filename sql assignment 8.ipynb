{
 "cells": [
  {
   "cell_type": "markdown",
   "id": "a47087e4",
   "metadata": {},
   "source": [
    "Q-15. Write an SQL query to fetch intersecting records of two tables.\n",
    "\n",
    "\n",
    "\n"
   ]
  },
  {
   "cell_type": "code",
   "execution_count": null,
   "id": "d6bc4b85",
   "metadata": {},
   "outputs": [],
   "source": [
    "Select c1 from table1 intersect select c1 from table2"
   ]
  },
  {
   "cell_type": "markdown",
   "id": "cf712a80",
   "metadata": {},
   "source": [
    "Q-16. Write an SQL query to show records from one table that another table does not\n",
    "have."
   ]
  },
  {
   "cell_type": "code",
   "execution_count": null,
   "id": "3301afb7",
   "metadata": {},
   "outputs": [],
   "source": [
    "Select name from table1 where name not in(select name from table2)"
   ]
  }
 ],
 "metadata": {
  "kernelspec": {
   "display_name": "Python 3 (ipykernel)",
   "language": "python",
   "name": "python3"
  },
  "language_info": {
   "codemirror_mode": {
    "name": "ipython",
    "version": 3
   },
   "file_extension": ".py",
   "mimetype": "text/x-python",
   "name": "python",
   "nbconvert_exporter": "python",
   "pygments_lexer": "ipython3",
   "version": "3.10.9"
  }
 },
 "nbformat": 4,
 "nbformat_minor": 5
}
