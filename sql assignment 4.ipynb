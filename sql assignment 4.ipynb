{
 "cells": [
  {
   "cell_type": "markdown",
   "id": "a9472433",
   "metadata": {},
   "source": [
    "\n",
    "CREATE TABLE emp (\n",
    "  emp_name VARCHAR(50),\n",
    "  emp_salary int\n",
    ");\n",
    "INSERT INTO emp (emp_name, emp_salary) VALUES\n",
    "('Shubham Thakur', 50000),\n",
    "('Aman Chopra', 60000),\n",
    "('Naveen Tulasi', 75000),\n",
    "('Bhavika uppala', 45000),\n",
    "('Nishant jain', 80000);\n",
    "\n",
    "\n",
    "Q-1. Write an SQL query to print the FIRST_NAME from Worker table after replacing ‘a’\n",
    "with ‘A’.\n",
    "\n",
    "\n",
    "\n",
    "\n"
   ]
  },
  {
   "cell_type": "code",
   "execution_count": null,
   "id": "52d5c525",
   "metadata": {},
   "outputs": [],
   "source": [
    "select replace(FIRST_NAME, ’a’, ’A’) from emp"
   ]
  },
  {
   "cell_type": "markdown",
   "id": "b793a20a",
   "metadata": {},
   "source": [
    "Q-2. Write an SQL query to print all Worker details from the Worker table order by\n",
    "FIRST_NAME Ascending and DEPARTMENT Descending."
   ]
  },
  {
   "cell_type": "code",
   "execution_count": null,
   "id": "ca282abf",
   "metadata": {},
   "outputs": [],
   "source": [
    "Select * from Worker order by FIRST_NAME asc, DEPARTMENT desc"
   ]
  },
  {
   "cell_type": "markdown",
   "id": "c4897cd8",
   "metadata": {},
   "source": [
    "Q-3. Write an SQL query to fetch the names of workers who earn the highest salary."
   ]
  },
  {
   "cell_type": "code",
   "execution_count": null,
   "id": "dccfac3b",
   "metadata": {},
   "outputs": [],
   "source": [
    "\n",
    "select * from workers order by salary desc limit 1\n"
   ]
  }
 ],
 "metadata": {
  "kernelspec": {
   "display_name": "Python 3 (ipykernel)",
   "language": "python",
   "name": "python3"
  },
  "language_info": {
   "codemirror_mode": {
    "name": "ipython",
    "version": 3
   },
   "file_extension": ".py",
   "mimetype": "text/x-python",
   "name": "python",
   "nbconvert_exporter": "python",
   "pygments_lexer": "ipython3",
   "version": "3.10.9"
  }
 },
 "nbformat": 4,
 "nbformat_minor": 5
}
