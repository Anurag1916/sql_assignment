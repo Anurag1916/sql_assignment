{
 "cells": [
  {
   "cell_type": "markdown",
   "id": "82c6a893",
   "metadata": {},
   "source": [
    "Q-1. Write an SQL query to print the first three characters of  FIRST_NAME from Worker\n",
    "table.\n",
    "\n",
    " \n",
    "\n"
   ]
  },
  {
   "cell_type": "code",
   "execution_count": null,
   "id": "9b8da94d",
   "metadata": {},
   "outputs": [],
   "source": [
    "Select substring(FIRST_NAME,1,3) AS FIRST3LETTER from worker"
   ]
  },
  {
   "cell_type": "markdown",
   "id": "e71e139e",
   "metadata": {},
   "source": [
    "Q-2. Write an SQL query to find the position of the alphabet (‘a’) in the first name\n",
    "column ‘Amitabh’ from Worker table.\n"
   ]
  },
  {
   "cell_type": "code",
   "execution_count": null,
   "id": "6613178c",
   "metadata": {},
   "outputs": [],
   "source": [
    "Select position(‘a’ in Amitabh) as positioncol"
   ]
  },
  {
   "cell_type": "markdown",
   "id": "05568da0",
   "metadata": {},
   "source": [
    "Q-3. Write an SQL query to print the name of employees having the highest salary in each\n",
    "department.\n"
   ]
  },
  {
   "cell_type": "code",
   "execution_count": null,
   "id": "599c8558",
   "metadata": {},
   "outputs": [],
   "source": [
    "\n",
    "Select e.empname, e.depid from employees e where e.salary in (select max(salary from employees group by depid)"
   ]
  }
 ],
 "metadata": {
  "kernelspec": {
   "display_name": "Python 3 (ipykernel)",
   "language": "python",
   "name": "python3"
  },
  "language_info": {
   "codemirror_mode": {
    "name": "ipython",
    "version": 3
   },
   "file_extension": ".py",
   "mimetype": "text/x-python",
   "name": "python",
   "nbconvert_exporter": "python",
   "pygments_lexer": "ipython3",
   "version": "3.10.9"
  }
 },
 "nbformat": 4,
 "nbformat_minor": 5
}
