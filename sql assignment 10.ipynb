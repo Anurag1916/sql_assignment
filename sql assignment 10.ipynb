{
 "cells": [
  {
   "cell_type": "markdown",
   "id": "772a65dd",
   "metadata": {},
   "source": [
    "Q-19. Write an SQL query to determine the 5th highest salary without using TOP or limit\n",
    "method.\n"
   ]
  },
  {
   "cell_type": "code",
   "execution_count": null,
   "id": "2e82d9b0",
   "metadata": {},
   "outputs": [],
   "source": [
    "select * from\n",
    "(select emp_name, emp_salary, dense_rank() \n",
    "over(order by emp_salary desc)high from emp)r where high=4\n"
   ]
  },
  {
   "cell_type": "markdown",
   "id": "f9210295",
   "metadata": {},
   "source": [
    "Q-20. Write an SQL query to fetch the list of employees with the same salary.\n",
    "\n"
   ]
  },
  {
   "cell_type": "code",
   "execution_count": null,
   "id": "a4e68f16",
   "metadata": {},
   "outputs": [],
   "source": [
    "SELECT * FROM emp WHERE emp_salary IN (SELECT emp_salary  FROM emp\n",
    "    GROUP BY emp_salary\n"
   ]
  }
 ],
 "metadata": {
  "kernelspec": {
   "display_name": "Python 3 (ipykernel)",
   "language": "python",
   "name": "python3"
  },
  "language_info": {
   "codemirror_mode": {
    "name": "ipython",
    "version": 3
   },
   "file_extension": ".py",
   "mimetype": "text/x-python",
   "name": "python",
   "nbconvert_exporter": "python",
   "pygments_lexer": "ipython3",
   "version": "3.10.9"
  }
 },
 "nbformat": 4,
 "nbformat_minor": 5
}
