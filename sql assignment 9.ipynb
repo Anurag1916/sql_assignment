{
 "cells": [
  {
   "cell_type": "markdown",
   "id": "a29f0aee",
   "metadata": {},
   "source": [
    "Q-17. Write an SQL query to show the top n (say 10) records of a table.\n",
    "\n",
    "\n",
    "\n"
   ]
  },
  {
   "cell_type": "code",
   "execution_count": null,
   "id": "c57b109d",
   "metadata": {},
   "outputs": [],
   "source": [
    "Select * from worker order by emp_salary desc limit 10"
   ]
  },
  {
   "cell_type": "markdown",
   "id": "1cabd08a",
   "metadata": {},
   "source": [
    "Q-18. Write an SQL query to determine the nth (say n=5) highest salary from a table."
   ]
  },
  {
   "cell_type": "code",
   "execution_count": null,
   "id": "4facbb8c",
   "metadata": {},
   "outputs": [],
   "source": [
    "Select * from emp order by emp_salary desc limit 1 offset "
   ]
  }
 ],
 "metadata": {
  "kernelspec": {
   "display_name": "Python 3 (ipykernel)",
   "language": "python",
   "name": "python3"
  },
  "language_info": {
   "codemirror_mode": {
    "name": "ipython",
    "version": 3
   },
   "file_extension": ".py",
   "mimetype": "text/x-python",
   "name": "python",
   "nbconvert_exporter": "python",
   "pygments_lexer": "ipython3",
   "version": "3.10.9"
  }
 },
 "nbformat": 4,
 "nbformat_minor": 5
}
