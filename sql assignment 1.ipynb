{
 "cells": [
  {
   "cell_type": "markdown",
   "id": "868ca93b",
   "metadata": {},
   "source": [
    "Q-1. Write an SQL query to fetch “FIRST_NAME” from Worker table using the alias\n",
    "name as WORKER_NAME\n",
    "\n",
    "\n"
   ]
  },
  {
   "cell_type": "code",
   "execution_count": 7,
   "id": "e828fc56",
   "metadata": {},
   "outputs": [
    {
     "ename": "SyntaxError",
     "evalue": "invalid syntax (3075850878.py, line 1)",
     "output_type": "error",
     "traceback": [
      "\u001b[1;36m  Cell \u001b[1;32mIn[7], line 1\u001b[1;36m\u001b[0m\n\u001b[1;33m    Select FIRST_NAME as WORKER_NAME from WORKERS\u001b[0m\n\u001b[1;37m           ^\u001b[0m\n\u001b[1;31mSyntaxError\u001b[0m\u001b[1;31m:\u001b[0m invalid syntax\n"
     ]
    }
   ],
   "source": [
    "Select FIRST_NAME as WORKER_NAME from WORKERS"
   ]
  },
  {
   "cell_type": "markdown",
   "id": "0b9709cf",
   "metadata": {},
   "source": [
    "Q-2. Write an SQL query to fetch unique values of DEPARTMENT from Worker table.\n",
    "\n"
   ]
  },
  {
   "cell_type": "code",
   "execution_count": null,
   "id": "9405d7c3",
   "metadata": {},
   "outputs": [],
   "source": [
    "Select distinct DEPARTMENT from worker"
   ]
  },
  {
   "cell_type": "markdown",
   "id": "ab1ebae0",
   "metadata": {},
   "source": [
    "Q-3. Write an SQL query to show the last 5 record from a table.\n"
   ]
  },
  {
   "cell_type": "code",
   "execution_count": null,
   "id": "e72e25f7",
   "metadata": {},
   "outputs": [],
   "source": [
    "Select * from worker order by id desc limit 5"
   ]
  },
  {
   "cell_type": "code",
   "execution_count": null,
   "id": "838540f0",
   "metadata": {},
   "outputs": [],
   "source": []
  }
 ],
 "metadata": {
  "kernelspec": {
   "display_name": "Python 3 (ipykernel)",
   "language": "python",
   "name": "python3"
  },
  "language_info": {
   "codemirror_mode": {
    "name": "ipython",
    "version": 3
   },
   "file_extension": ".py",
   "mimetype": "text/x-python",
   "name": "python",
   "nbconvert_exporter": "python",
   "pygments_lexer": "ipython3",
   "version": "3.10.9"
  }
 },
 "nbformat": 4,
 "nbformat_minor": 5
}
