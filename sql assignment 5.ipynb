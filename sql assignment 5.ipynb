{
 "cells": [
  {
   "cell_type": "markdown",
   "id": "54c57779",
   "metadata": {},
   "source": [
    "Q-1. Write an SQL query to print details of workers excluding first names, “Vipul” and\n",
    "“Satish” from Worker table.\n",
    "\n",
    "\n"
   ]
  },
  {
   "cell_type": "code",
   "execution_count": null,
   "id": "54ad95ba",
   "metadata": {},
   "outputs": [],
   "source": [
    "Select * from Workers where first_names not in {‘Vipul’,’Satish’}"
   ]
  },
  {
   "cell_type": "markdown",
   "id": "fa74d57f",
   "metadata": {},
   "source": [
    "\n",
    "Q-2. Write an SQL query to print details of the Workers whose FIRST_NAME ends with\n",
    "‘h’ and contains six alphabets."
   ]
  },
  {
   "cell_type": "code",
   "execution_count": null,
   "id": "a440e599",
   "metadata": {},
   "outputs": [],
   "source": [
    "\n",
    "Select * from Workers where FIRST_NAME like (‘_____h’)"
   ]
  },
  {
   "cell_type": "markdown",
   "id": "8ecc4cbd",
   "metadata": {},
   "source": [
    "\n",
    "Q-3. Write a query to validate Email of Employee."
   ]
  },
  {
   "cell_type": "code",
   "execution_count": null,
   "id": "1b721fff",
   "metadata": {},
   "outputs": [],
   "source": [
    "Select * from Employee where Email like (‘%@gmail.com’)"
   ]
  }
 ],
 "metadata": {
  "kernelspec": {
   "display_name": "Python 3 (ipykernel)",
   "language": "python",
   "name": "python3"
  },
  "language_info": {
   "codemirror_mode": {
    "name": "ipython",
    "version": 3
   },
   "file_extension": ".py",
   "mimetype": "text/x-python",
   "name": "python",
   "nbconvert_exporter": "python",
   "pygments_lexer": "ipython3",
   "version": "3.10.9"
  }
 },
 "nbformat": 4,
 "nbformat_minor": 5
}
